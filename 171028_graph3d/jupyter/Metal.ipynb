{
 "cells": [
  {
   "cell_type": "code",
   "execution_count": 2,
   "metadata": {
    "collapsed": true
   },
   "outputs": [],
   "source": [
    "%matplotlib inline\n",
    "import pandas as pd"
   ]
  },
  {
   "cell_type": "code",
   "execution_count": 3,
   "metadata": {
    "collapsed": true
   },
   "outputs": [],
   "source": [
    "df = pd.read_csv('metal.csv', delimiter=';', index_col='Unnamed: 0')"
   ]
  },
  {
   "cell_type": "code",
   "execution_count": 4,
   "metadata": {},
   "outputs": [
    {
     "data": {
      "text/plain": [
       "1    175572\n",
       "dtype: int64"
      ]
     },
     "execution_count": 4,
     "metadata": {},
     "output_type": "execute_result"
    }
   ],
   "source": [
    "(df['ngram1'] + df['ngram2'] + df['pubyear'].map(str)).value_counts().value_counts()"
   ]
  },
  {
   "cell_type": "code",
   "execution_count": 5,
   "metadata": {},
   "outputs": [
    {
     "data": {
      "text/plain": [
       "<matplotlib.axes._subplots.AxesSubplot at 0x7f70dbd6a0f0>"
      ]
     },
     "execution_count": 5,
     "metadata": {},
     "output_type": "execute_result"
    },
    {
     "data": {
      "image/png": "[encoded data removed]",
      "text/plain": [
       "<matplotlib.figure.Figure at 0x7f70dbd6a898>"
      ]
     },
     "metadata": {},
     "output_type": "display_data"
    }
   ],
   "source": [
    "df['ngram1'].append(df['ngram2']).value_counts().value_counts().sort_index()[:50].plot()"
   ]
  },
  {
   "cell_type": "code",
   "execution_count": 6,
   "metadata": {
    "collapsed": true
   },
   "outputs": [],
   "source": [
    "subdf = df[df['pubyear'] == 2011]\n",
    "pd.DataFrame({\n",
    "    'Source': subdf['ngram1'],\n",
    "    'Target': subdf['ngram2'],\n",
    "    'Weight': subdf['count'],\n",
    "}).to_csv('metal_graph_2011.csv')"
   ]
  },
  {
   "cell_type": "code",
   "execution_count": 7,
   "metadata": {},
   "outputs": [
    {
     "data": {
      "text/plain": [
       "2011    52757\n",
       "2014    39965\n",
       "2013    31674\n",
       "2015    30743\n",
       "2012    20433\n",
       "Name: pubyear, dtype: int64"
      ]
     },
     "execution_count": 7,
     "metadata": {},
     "output_type": "execute_result"
    }
   ],
   "source": [
    "df['pubyear'].value_counts()"
   ]
  },
  {
   "cell_type": "code",
   "execution_count": 8,
   "metadata": {},
   "outputs": [
    {
     "data": {
      "text/plain": [
       "<matplotlib.axes._subplots.AxesSubplot at 0x7f70dbd595f8>"
      ]
     },
     "execution_count": 8,
     "metadata": {},
     "output_type": "execute_result"
    },
    {
     "data": {
      "image/png": "[encoded data removed]",
      "text/plain": [
       "<matplotlib.figure.Figure at 0x7f70dbd607f0>"
      ]
     },
     "metadata": {},
     "output_type": "display_data"
    }
   ],
   "source": [
    "df['pubyear'].value_counts().sort_index().plot()"
   ]
  },
  {
   "cell_type": "code",
   "execution_count": 9,
   "metadata": {},
   "outputs": [
    {
     "data": {
      "text/plain": [
       "1      110800\n",
       "2       33888\n",
       "3       10378\n",
       "4        7093\n",
       "5        3277\n",
       "6        2374\n",
       "7        1394\n",
       "8        1223\n",
       "9         810\n",
       "10        734\n",
       "11        476\n",
       "12        411\n",
       "13        336\n",
       "14        258\n",
       "15        178\n",
       "16        172\n",
       "17        165\n",
       "18        149\n",
       "19        125\n",
       "20        110\n",
       "21        113\n",
       "22         89\n",
       "23         83\n",
       "24         64\n",
       "25         44\n",
       "26         48\n",
       "27         60\n",
       "28         44\n",
       "29         36\n",
       "30         42\n",
       "        ...  \n",
       "145         1\n",
       "147         1\n",
       "152         1\n",
       "154         1\n",
       "155         1\n",
       "156         1\n",
       "157         1\n",
       "159         1\n",
       "160         1\n",
       "161         1\n",
       "162         2\n",
       "164         2\n",
       "165         3\n",
       "166         1\n",
       "168         1\n",
       "172         3\n",
       "174         2\n",
       "177         1\n",
       "180         1\n",
       "181         1\n",
       "194         1\n",
       "200         1\n",
       "201         2\n",
       "205         1\n",
       "212         1\n",
       "214         1\n",
       "222         1\n",
       "225         1\n",
       "244         1\n",
       "268         1\n",
       "Name: count, dtype: int64"
      ]
     },
     "execution_count": 9,
     "metadata": {},
     "output_type": "execute_result"
    }
   ],
   "source": [
    "df['count'].value_counts().sort_index()"
   ]
  },
  {
   "cell_type": "code",
   "execution_count": 11,
   "metadata": {
    "collapsed": true
   },
   "outputs": [],
   "source": [
    "pairs = df['ngram1'] + ' + ' + df['ngram2']"
   ]
  },
  {
   "cell_type": "code",
   "execution_count": 12,
   "metadata": {},
   "outputs": [
    {
     "data": {
      "text/plain": [
       "175572"
      ]
     },
     "execution_count": 12,
     "metadata": {},
     "output_type": "execute_result"
    }
   ],
   "source": [
    "len(pairs)"
   ]
  },
  {
   "cell_type": "code",
   "execution_count": 13,
   "metadata": {},
   "outputs": [
    {
     "data": {
      "text/plain": [
       "141085"
      ]
     },
     "execution_count": 13,
     "metadata": {},
     "output_type": "execute_result"
    }
   ],
   "source": [
    "len(pairs.value_counts())"
   ]
  },
  {
   "cell_type": "code",
   "execution_count": 14,
   "metadata": {},
   "outputs": [
    {
     "data": {
      "text/plain": [
       "1    119192\n",
       "2     14517\n",
       "3      3869\n",
       "4      1796\n",
       "5      1711\n",
       "dtype: int64"
      ]
     },
     "execution_count": 14,
     "metadata": {},
     "output_type": "execute_result"
    }
   ],
   "source": [
    "pairs.value_counts().value_counts()"
   ]
  },
  {
   "cell_type": "code",
   "execution_count": 15,
   "metadata": {},
   "outputs": [
    {
     "data": {
      "text/plain": [
       "175572"
      ]
     },
     "execution_count": 15,
     "metadata": {},
     "output_type": "execute_result"
    }
   ],
   "source": [
    "len(df)"
   ]
  },
  {
   "cell_type": "markdown",
   "metadata": {},
   "source": [
    "## Metal 2"
   ]
  },
  {
   "cell_type": "code",
   "execution_count": 19,
   "metadata": {
    "collapsed": true
   },
   "outputs": [],
   "source": [
    "metal_2 = df[['ngram1', 'ngram2', 'count']]\n",
    "metal_2 = metal_2[metal_2['count'] >= 2]\n",
    "metal_2 = metal_2.groupby(['ngram1', 'ngram2']).sum()\n",
    "metal_2 = metal_2.reset_index()"
   ]
  },
  {
   "cell_type": "code",
   "execution_count": 20,
   "metadata": {
    "collapsed": true
   },
   "outputs": [],
   "source": [
    "metal_2_nodes = sorted(set(metal_2['ngram1']).union(set(metal_2['ngram2'])))"
   ]
  },
  {
   "cell_type": "code",
   "execution_count": 21,
   "metadata": {},
   "outputs": [
    {
     "data": {
      "text/plain": [
       "6572"
      ]
     },
     "execution_count": 21,
     "metadata": {},
     "output_type": "execute_result"
    }
   ],
   "source": [
    "len(metal_2_nodes)"
   ]
  },
  {
   "cell_type": "code",
   "execution_count": 35,
   "metadata": {},
   "outputs": [],
   "source": [
    "values_order = ('total', '2011', '2012', '2013', '2014', '2015')\n",
    "metal_2_values = [[0] * len(values_order) for node in metal_2_nodes]\n",
    "metal_2_nodes_rev = {label: pos for pos, label in enumerate(metal_2_nodes)}\n",
    "for _, row in df.iterrows():\n",
    "    count = row['count']\n",
    "    year = row['pubyear']\n",
    "    for ngram in row['ngram1'], row['ngram2']:\n",
    "        if ngram not in metal_2_nodes_rev:\n",
    "            continue\n",
    "        node_id = metal_2_nodes_rev[ngram]\n",
    "        node_values = metal_2_values[node_id]\n",
    "        node_values[values_order.index('total')] += count\n",
    "        node_values[values_order.index(str(year))] += count"
   ]
  },
  {
   "cell_type": "code",
   "execution_count": 37,
   "metadata": {},
   "outputs": [
    {
     "data": {
      "text/plain": [
       "[756418, 235757, 75029, 132686, 179193, 133753]"
      ]
     },
     "execution_count": 37,
     "metadata": {},
     "output_type": "execute_result"
    }
   ],
   "source": [
    "for row in metal_2_values:\n",
    "    assert sum(row) == row[0] * 2\n",
    "    \n",
    "metal_2_total_values = [0] * len(values_order)\n",
    "for row in metal_2_values:\n",
    "    for no, val in enumerate(row):\n",
    "        metal_2_total_values[no] += val\n",
    "metal_2_total_values"
   ]
  },
  {
   "cell_type": "code",
   "execution_count": 98,
   "metadata": {
    "collapsed": true
   },
   "outputs": [],
   "source": [
    "raise\n",
    "import csv\n",
    "pd.DataFrame({\n",
    "    'Source': metal_2['ngram1'],\n",
    "    'Target': metal_2['ngram2'],\n",
    "    'Weight': metal_2['count'],\n",
    "}).to_csv('metal_2_graph.csv', index=False, quoting=csv.QUOTE_ALL)"
   ]
  },
  {
   "cell_type": "markdown",
   "metadata": {},
   "source": [
    "## Graph"
   ]
  },
  {
   "cell_type": "code",
   "execution_count": 25,
   "metadata": {
    "collapsed": true
   },
   "outputs": [],
   "source": [
    "label = None\n",
    "coords = {}\n",
    "for line in open('./metal_2_graph_positions.graphml'):\n",
    "    if line.startswith('<data key=\"label\">'):\n",
    "        label = line[line.index('>') + 1:line.index('<', 1)]\n",
    "        label = label.replace('&amp;', '&')\n",
    "        x = None\n",
    "        y = None\n",
    "    if line.startswith('<data key=\"x\">'):\n",
    "        assert x is None\n",
    "        x = line[line.index('>') + 1:line.index('<', 1)]\n",
    "    if line.startswith('<data key=\"y\">'):\n",
    "        assert y is None\n",
    "        y = line[line.index('>') + 1:line.index('<', 1)]\n",
    "        coords[label] = (x, y)\n",
    "        label = None\n",
    "\n",
    "metal_2_coords = []\n",
    "for label in metal_2_nodes:\n",
    "    x, y = coords[label]\n",
    "    metal_2_coords.append(float(x))\n",
    "    metal_2_coords.append(float(y))"
   ]
  },
  {
   "cell_type": "markdown",
   "metadata": {},
   "source": [
    "## JSON"
   ]
  },
  {
   "cell_type": "code",
   "execution_count": 32,
   "metadata": {
    "collapsed": true
   },
   "outputs": [],
   "source": [
    "edges = []\n",
    "for _, row in metal_2.iterrows():\n",
    "    edges.append(metal_2_nodes.index(row['ngram1']))\n",
    "    edges.append(metal_2_nodes.index(row['ngram2']))\n",
    "    edges.append(row['count'])"
   ]
  },
  {
   "cell_type": "code",
   "execution_count": 38,
   "metadata": {
    "collapsed": true
   },
   "outputs": [],
   "source": [
    "import json\n",
    "\n",
    "res = {\n",
    "    'node_count': len(metal_2_nodes),\n",
    "    'values_order': values_order,\n",
    "    'total_values': metal_2_total_values,\n",
    "    'values': [item for row in metal_2_values for item in row],\n",
    "    'labels': metal_2_nodes,\n",
    "    'coords': metal_2_coords,\n",
    "    'edges': edges\n",
    "}\n",
    "json.dump(res, open('metal_2.json', 'w'))"
   ]
  }
 ],
 "metadata": {
  "kernelspec": {
   "display_name": "Python 3",
   "language": "python",
   "name": "python3"
  },
  "language_info": {
   "codemirror_mode": {
    "name": "ipython",
    "version": 3
   },
   "file_extension": ".py",
   "mimetype": "text/x-python",
   "name": "python",
   "nbconvert_exporter": "python",
   "pygments_lexer": "ipython3",
   "version": "3.6.1"
  }
 },
 "nbformat": 4,
 "nbformat_minor": 2
}
